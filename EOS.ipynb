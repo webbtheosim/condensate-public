{
 "cells": [
  {
   "cell_type": "code",
   "execution_count": 1,
   "metadata": {},
   "outputs": [],
   "source": [
    "import numpy as np\n",
    "import matplotlib.pyplot as plt\n",
    "from scipy.interpolate import CubicSpline"
   ]
  },
  {
   "cell_type": "code",
   "execution_count": 2,
   "metadata": {},
   "outputs": [],
   "source": [
    "# inputs\n",
    "n_simulations = 10  # the number of NVT simulations\n",
    "rho = np.array([0.2, 0.3, 0.4, 0.5, 0.6, 0.7, 0.8, 0.9, 1.0, 1.1]) # the densities in (g/ml) at each NVT simulations.\n",
    "# the pressures at each NVT simulation and its standard errors.\n",
    "p_v = np.array([[-0.074,0.024], [-0.468,0.035], [-1.0,0.047], [-1.239,0.061], [0.028,0.076], [6.00,0.093], [24.2,0.10], [64.2,0.11], [141.5,0.125], [282.1,0.141]])"
   ]
  },
  {
   "cell_type": "code",
   "execution_count": 4,
   "metadata": {},
   "outputs": [],
   "source": [
    "\n",
    "def cal_density(p,density):\n",
    "    p = np.vstack((np.array([[0]]), p.reshape(-1,1)))\n",
    "    density_n = np.vstack((np.array([[0]]),rho.reshape(-1,1)))\n",
    "    cs = CubicSpline(density_n.reshape(n_simulations+1,),p.reshape(n_simulations+1,))\n",
    "    roots_arr = cs.roots()\n",
    "    num_roots = roots_arr.shape[0]\n",
    "    if np.all(p<=0):\n",
    "        return 5.0\n",
    "    else:\n",
    "        for i in range(num_roots):\n",
    "            if roots_arr[num_roots-1-i] < np.max(density):\n",
    "                return roots_arr[num_roots-1-i]\n",
    "                \n",
    "\n",
    "\n",
    "def p_fit(p,density):\n",
    "    p = np.vstack((np.array([[0]]), p.reshape(-1,1)))\n",
    "    density = np.vstack((np.array([[0]]), density.reshape(-1,1)))\n",
    "    cs = CubicSpline(density.reshape(n_simulations+1,),p.reshape(n_simulations+1,))\n",
    "    \n",
    "    p_fit_arr = np.zeros((150,))\n",
    "    for i in range(150):\n",
    "        p_fit_arr[i] = cs(i*0.01)\n",
    "\n",
    "    return p_fit_arr"
   ]
  },
  {
   "cell_type": "code",
   "execution_count": 5,
   "metadata": {},
   "outputs": [
    {
     "name": "stdout",
     "output_type": "stream",
     "text": [
      "Condensate density is: 0.5985786170754038 g/ml\n"
     ]
    }
   ],
   "source": [
    "# bootstrap for estimating the mean and standard deviations of the condensate density.\n",
    "\n",
    "num_boot = 50\n",
    "density_boot = np.zeros((num_boot,))\n",
    "p_v_boot = np.zeros((p_v.shape[0],))\n",
    "    \n",
    "for i in range(num_boot):\n",
    "    for j in range(n_simulations):\n",
    "        p_v_boot[j] = np.random.normal(p_v[j][0],p_v[j][1])\n",
    "    density_boot[i] = cal_density(p_v_boot,rho)\n",
    "\n",
    "print('Condensate density is: {} g/ml'.format(density_boot.mean()))\n",
    "#print(str(density_boot.mean())+'   '+str(density_boot.std()))\n"
   ]
  },
  {
   "cell_type": "code",
   "execution_count": 7,
   "metadata": {},
   "outputs": [
    {
     "data": {
      "image/png": "[encoded data removed]",
      "text/plain": [
       "<Figure size 432x288 with 1 Axes>"
      ]
     },
     "metadata": {
      "needs_background": "light"
     },
     "output_type": "display_data"
    }
   ],
   "source": [
    "p_fit_arr = p_fit(p_v[:,0],rho)\n",
    "plt.plot(rho,p_v[:,0],'bo')\n",
    "plt.errorbar(rho,p_v[:,0],yerr=p_v[:,1],fmt='.k')\n",
    "plt.plot([i*0.01 for i in range(1,150)],p_fit_arr[1:])\n",
    "plt.plot(rho,np.zeros((10,)))\n",
    "plt.xlim(0.1,0.8)\n",
    "plt.ylim(-2,5)\n",
    "plt.xlabel('Density (g/ml)')\n",
    "plt.ylabel('Pressure (Pa)')\n",
    "plt.show()"
   ]
  },
  {
   "cell_type": "code",
   "execution_count": null,
   "metadata": {},
   "outputs": [],
   "source": []
  },
  {
   "cell_type": "code",
   "execution_count": null,
   "metadata": {},
   "outputs": [],
   "source": []
  }
 ],
 "metadata": {
  "kernelspec": {
   "display_name": "Python 3",
   "language": "python",
   "name": "python3"
  },
  "language_info": {
   "codemirror_mode": {
    "name": "ipython",
    "version": 3
   },
   "file_extension": ".py",
   "mimetype": "text/x-python",
   "name": "python",
   "nbconvert_exporter": "python",
   "pygments_lexer": "ipython3",
   "version": "3.8.5"
  }
 },
 "nbformat": 4,
 "nbformat_minor": 4
}
