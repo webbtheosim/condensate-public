{
 "cells": [
  {
   "cell_type": "code",
   "execution_count": 1,
   "metadata": {},
   "outputs": [],
   "source": [
    "import os\n",
    "import numpy as np\n",
    "import math, argparse\n",
    "import scipy.optimize\n",
    "from scipy.integrate import cumtrapz\n",
    "from scipy.interpolate import CubicSpline\n",
    "from collections import defaultdict\n",
    "import matplotlib.pyplot as plt"
   ]
  },
  {
   "cell_type": "code",
   "execution_count": 40,
   "metadata": {},
   "outputs": [],
   "source": [
    "def mayer_function(r_array,v_array):\n",
    "    y = np.zeros(np.shape(v_array))\n",
    "    for i in range(np.shape(r_array)[0]):\n",
    "        y[i] = 2.0 * math.pi * r_array[i]**2 * (1. - math.exp(-v_array[i]/kb/T))\n",
    "    return y\n",
    "\n",
    "def B2_function(mayer_data,r):\n",
    "    return cumtrapz(mayer_data, r)\n",
    "\n",
    "\n",
    "def fit_pmf(dr, pmf, pmf_err, gyrsuminf, alpha=0.1, npoints_fine=1000):\n",
    "    # Solve a Bayesian model for the Mayer f function.  Prior is a Gaussian envelope for the pmf.\n",
    "    # Note that the distance scale in the gaussian argument should be scaled to account for real Rg.\n",
    "    dr_mean = dr\n",
    "    #print(dr[:-1])\n",
    "    def prior_var(r):\n",
    "        maxv = max(np.fabs(pmf))\n",
    "        gaussian_envelope_r = maxv * math.exp(-1. * (r / gyrsuminf)**2)\n",
    "        return (r**2 * (math.exp(gaussian_envelope_r) - 1.))**2\n",
    "    def data_var(i):\n",
    "        return (dr_mean[i]**2 * math.exp(-pmf[i]) * pmf_err[i])**2\n",
    "    def mayer_r2(r, v):\n",
    "        return r**2 * (math.exp(-v) - 1.)\n",
    "  \n",
    "    def get_v(r, f):\n",
    "        return -math.log(f / r**2 + 1.)\n",
    "  \n",
    "    def predict_fine(cs):\n",
    "        return (np.array([r for r in np.linspace(0., dr[-1], npoints_fine)]), \\\n",
    "                np.array([cs(r) for r in np.linspace(0., dr[-1], npoints_fine)]))\n",
    "    def B2(cs):\n",
    "        return scipy.integrate.quad(lambda r: 2.*math.pi*r**2 * (1. - math.exp(-cs(r))), 0, np.inf)[0]\n",
    "\n",
    "    mayer_data = np.array([mayer_r2(dr_mean[i], pmf[i]) for i in range(len(pmf))])\n",
    "    var_data = np.array([data_var(i) for i in range(len(pmf))])\n",
    "    var_model = np.array([prior_var(dr_mean[i]) for i in range(len(pmf))])\n",
    "    mayer_model = mayer_data / (1. + alpha * (var_data / var_model))\n",
    "    pmf_model = np.array([get_v(dr_mean[i], mayer_model[i]) for i in range(len(pmf))])\n",
    "    for i in range(len(pmf)):\n",
    "        if math.fabs(pmf_model[i]) < 1.e-3:\n",
    "            pmf_model[i] = 0.\n",
    "    pmf_model_cs = CubicSpline(dr_mean, pmf_model, bc_type=('not-a-knot', 'clamped'))\n",
    "\n",
    "\n",
    "    def cs_extrap(r):\n",
    "        if r < dr_mean[-1] :\n",
    "            return pmf_model_cs(r)\n",
    "        else:\n",
    "            return 0\n",
    "    return None, pmf_model, predict_fine(pmf_model_cs), B2(cs_extrap)\n"
   ]
  },
  {
   "cell_type": "code",
   "execution_count": 44,
   "metadata": {},
   "outputs": [
    {
     "name": "stdout",
     "output_type": "stream",
     "text": [
      "B2 is  -501630.297015704\n"
     ]
    },
    {
     "name": "stderr",
     "output_type": "stream",
     "text": [
      "<ipython-input-40-f8a102c22d21>:32: IntegrationWarning: The maximum number of subdivisions (50) has been achieved.\n",
      "  If increasing the limit yields no improvement it is advised to analyze \n",
      "  the integrand in order to determine the difficulties.  If the position of a \n",
      "  local difficulty can be determined (singularity, discontinuity) one will \n",
      "  probably gain from splitting up the interval and calling the integrator \n",
      "  on the subranges.  Perhaps a special-purpose integrator should be used.\n",
      "  return scipy.integrate.quad(lambda r: 2.*math.pi*r**2 * (1. - math.exp(-cs(r))), 0, np.inf)[0]\n"
     ]
    }
   ],
   "source": [
    "kb = 0.001985875 #Boltzman constant kcal/(mol K)\n",
    "T = 300 # Temperature K\n",
    "bin_width = 1.0\n",
    "nzero = 20\n",
    "gyrinfsum = 20 # this is the radius of gyration, which should be determined by the one-single chain simulation \n",
    "\n",
    "pmf_name = 'pmf_ave_300.txt' # potential of mean force\n",
    "\n",
    "pmf_ave = np.loadtxt(pmf_name)\n",
    "dr = pmf_ave[:,0]\n",
    "pmf_err = np.loadtxt('pmf_ave_err300.txt') # the standard deviation of potential of mean force\n",
    "\n",
    "pmf_fit_params, pmf_fit, pmf_fit_fine, B2 = fit_pmf(dr, pmf_ave[:,1], pmf_err[:,1], gyrinfsum) # optimize the pmf_ave profile by using bayesian optimization\n",
    "\n",
    "print('B2 is ', B2)\n",
    "#plt.plot(pmf_ave[:,0], pmf_ave[:,1])\n",
    "#plt.plot(pmf_ave[:,0], pmf_fit)\n",
    "#plt.plot(pmf_fit_fine[0], pmf_fit_fine[1])\n",
    "#plt.show()"
   ]
  },
  {
   "cell_type": "code",
   "execution_count": null,
   "metadata": {},
   "outputs": [],
   "source": []
  }
 ],
 "metadata": {
  "kernelspec": {
   "display_name": "Python 3",
   "language": "python",
   "name": "python3"
  },
  "language_info": {
   "codemirror_mode": {
    "name": "ipython",
    "version": 3
   },
   "file_extension": ".py",
   "mimetype": "text/x-python",
   "name": "python",
   "nbconvert_exporter": "python",
   "pygments_lexer": "ipython3",
   "version": "3.8.5"
  }
 },
 "nbformat": 4,
 "nbformat_minor": 4
}
